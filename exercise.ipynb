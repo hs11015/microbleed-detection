{
 "cells": [
  {
   "cell_type": "code",
   "execution_count": 2,
   "metadata": {},
   "outputs": [],
   "source": [
    "import numpy as np\n",
    "import cv2\n",
    "import pydicom as dicom #전처리에서는 쓰지 않음\n",
    "import SimpleITK as sitk\n",
    "from math import sqrt"
   ]
  },
  {
   "cell_type": "code",
   "execution_count": 3,
   "metadata": {},
   "outputs": [],
   "source": [
    "filename = './1.3.12.2.1107.5.2.19.45117.2018090613503685637465765.dcm'\n",
    "images = sitk.ReadImage(filename)\n",
    "images_array = sitk.GetArrayFromImage(images).astype('float32')"
   ]
  },
  {
   "cell_type": "markdown",
   "metadata": {},
   "source": [
    "일반적으로 한 이미지를 구성하고 있는 pixel 값의 범위는 기본적으로 0부터 255, 0부터 2^8 범위를 가지고 있어 8bit depth라고 할 수 있음\\\n",
    "하지만 DICOM 파일의 경우 12 bit depth, 16 bit depth로 구성되어 있는 것도 많음.\\\n",
    "따라서 DICOM 파일에서 max 값과 min 값을 각각 계산하고, 모든 값을 0~1 사이로 정규화 해주기\\\n",
    "이후 0~1 사이로 정규화 한 값들에 255를 곱해 8 bit depth로 바꿔주기\n"
   ]
  },
  {
   "cell_type": "code",
   "execution_count": 4,
   "metadata": {},
   "outputs": [
    {
     "data": {
      "text/plain": [
       "(0.0, 2039.0)"
      ]
     },
     "execution_count": 4,
     "metadata": {},
     "output_type": "execute_result"
    }
   ],
   "source": [
    "img = np.squeeze(images_array)\n",
    "copy_img = img.copy()\n",
    "min=np.min(copy_img)\n",
    "max=np.max(copy_img)\n",
    "min, max"
   ]
  },
  {
   "cell_type": "code",
   "execution_count": 5,
   "metadata": {},
   "outputs": [],
   "source": [
    "copy_img = (copy_img - min)/(max-min)\n",
    "copy_img *= 2**8 -1\n",
    "copy_img = copy_img.astype(np.uint8)\n",
    "\n",
    "copy_img = np.expand_dims(copy_img, axis = -1)\n",
    "copy_img = cv2.cvtColor(copy_img, cv2.COLOR_GRAY2RGB)"
   ]
  },
  {
   "cell_type": "code",
   "execution_count": 6,
   "metadata": {},
   "outputs": [
    {
     "data": {
      "text/plain": [
       "(0, 255)"
      ]
     },
     "execution_count": 6,
     "metadata": {},
     "output_type": "execute_result"
    }
   ],
   "source": [
    "np.min(copy_img), np.max(copy_img)"
   ]
  },
  {
   "cell_type": "code",
   "execution_count": 8,
   "metadata": {},
   "outputs": [
    {
     "name": "stdout",
     "output_type": "stream",
     "text": [
      "(384, 384, 3)\n"
     ]
    }
   ],
   "source": [
    "sobel_x = cv2.Sobel(copy_img, -1, 1, 0)\n",
    "sobel_y = cv2.Sobel(copy_img, -1, 0, 1)\n",
    "sobel = sobel_x + sobel_y\n",
    "final = copy_img - cv2.bitwise_not(sobel)\n",
    "print(sobel.shape)\n",
    "#sobel = cv2.addWeighted(sobel_x, 0.5, sobel_y, 0.5,0)\n",
    "\n",
    "cv2.imshow('sample image dicom',copy_img)\n",
    "cv2.imshow('sobel_x', sobel_x)\n",
    "cv2.imshow('sobel_y', sobel_y)\n",
    "cv2.imshow('sobel', sobel)\n",
    "cv2.imshow('final', final)\n",
    "cv2.waitKey()\n",
    "\n",
    "cv2.destroyAllWindows()"
   ]
  },
  {
   "cell_type": "code",
   "execution_count": 12,
   "metadata": {},
   "outputs": [
    {
     "name": "stdout",
     "output_type": "stream",
     "text": [
      "(384, 384, 3)\n"
     ]
    }
   ],
   "source": [
    "#cv2.HoghCircles 안에 이미 Canny edge detection이 내부적으로 들어가 있어서 굳이 필요 없을 듯\n",
    "canny = cv2.Canny(sobel, 50, 150)\n",
    "canny = cv2.cvtColor(canny, cv2.COLOR_GRAY2RGB)\n",
    "print(canny.shape)\n",
    "\n",
    "cv2.imshow('canny edge', canny)\n",
    "cv2.waitKey()\n",
    "\n",
    "cv2.destroyAllWindows()\n"
   ]
  },
  {
   "cell_type": "markdown",
   "metadata": {},
   "source": [
    "HoughCircles\n",
    "- 인자 1 - 그레이 이미지\n",
    "- 인자 2 - cv2.HOUGH_GRADIENT : 허프 번환을 이용해 원 찾기\n",
    "- 인자 3 - 원본 이미지와 허프 변환 카운팅 결과 이미지의 비\n",
    "- 인자 4 - 찾은 원들의 중심 간 최고 거리. 중심 간의 거리아 이 값보다 작으면 나중에 찾은 원 무시. 값을 적절하게 조절할 필요 있음\n",
    "- 인자 5 - param1 : Canny()의 maxVal 값\n",
    "- 인자 6 - param2 : 원으로 판단하는 허프 변환 카운팅 갓. 작을 수록 많은 원, 클 수록 적은 원"
   ]
  },
  {
   "cell_type": "code",
   "execution_count": 56,
   "metadata": {},
   "outputs": [
    {
     "name": "stdout",
     "output_type": "stream",
     "text": [
      "[[0 0 0 ... 0 0 0]\n",
      " [0 0 0 ... 0 0 0]\n",
      " [0 0 0 ... 0 0 0]\n",
      " ...\n",
      " [0 0 0 ... 0 0 0]\n",
      " [0 0 0 ... 0 0 0]\n",
      " [0 0 0 ... 0 0 0]]\n"
     ]
    }
   ],
   "source": [
    "circle_img = cv2.cvtColor(copy_img, cv2.COLOR_RGB2GRAY)\n",
    "print(circle_img)\n",
    "circles = cv2.HoughCircles(circle_img,cv2.HOUGH_GRADIENT,1,10,param1=240,param2=13,minRadius=0,maxRadius=11) \n",
    "circles = np.uint16(np.around(circles))\n",
    "circle_img = cv2.cvtColor(circle_img, cv2.COLOR_GRAY2RGB)\n",
    "for i in circles[0,:]:\n",
    "    # draw the outer circle\n",
    "    cv2.circle(circle_img,(i[0],i[1]),i[2],(0,0,255),1)\n",
    "    # draw the center of the circle\n",
    "    #cv2.circle(circle_img,(i[0],i[1]),2,(0,0,255),3)\n",
    "\n",
    "cv2.imshow('detected circles',circle_img)\n",
    "cv2.waitKey(0)\n",
    "cv2.destroyAllWindows()"
   ]
  },
  {
   "cell_type": "code",
   "execution_count": 55,
   "metadata": {},
   "outputs": [],
   "source": [
    "circle_img = cv2.cvtColor(copy_img, cv2.COLOR_RGB2GRAY)\n",
    "circles = cv2.HoughCircles(circle_img,cv2.HOUGH_GRADIENT,1,10,param1=240,param2=10,minRadius=0,maxRadius=10) \n",
    "circles = np.uint16(np.around(circles))\n",
    "circle_img = cv2.cvtColor(circle_img, cv2.COLOR_GRAY2RGB)\n",
    "for i in circles[0,:]:\n",
    "    # draw the outer circle\n",
    "    cv2.circle(circle_img,(i[0],i[1]),i[2],(0,0,255),1)\n",
    "    # draw the center of the circle\n",
    "    #cv2.circle(circle_img,(i[0],i[1]),2,(0,0,255),3)\n",
    "\n",
    "cv2.imshow('detected circles',circle_img)\n",
    "cv2.waitKey(0)\n",
    "cv2.destroyAllWindows()"
   ]
  },
  {
   "cell_type": "code",
   "execution_count": null,
   "metadata": {},
   "outputs": [],
   "source": []
  },
  {
   "cell_type": "code",
   "execution_count": null,
   "metadata": {},
   "outputs": [],
   "source": []
  },
  {
   "cell_type": "code",
   "execution_count": null,
   "metadata": {},
   "outputs": [],
   "source": []
  },
  {
   "cell_type": "code",
   "execution_count": null,
   "metadata": {},
   "outputs": [],
   "source": []
  },
  {
   "cell_type": "code",
   "execution_count": null,
   "metadata": {},
   "outputs": [],
   "source": [
    "ds=dicom.dcmread('./1.3.12.2.1107.5.2.19.45117.2018090613503685637465765.dcm')\n",
    "dcm_sample=ds.pixel_array\n",
    "cv2.imshow('sample image dicom',dcm_sample)\n",
    "\n",
    "cv2.waitKey()\n",
    "cv2.destroyAllWindows()"
   ]
  }
 ],
 "metadata": {
  "interpreter": {
   "hash": "1dd56a1cebea3daf789a42d50e3b405b0d5f8321c46dc97dbc75816bbad19802"
  },
  "kernelspec": {
   "display_name": "Python 3 (ipykernel)",
   "language": "python",
   "name": "python3"
  },
  "language_info": {
   "codemirror_mode": {
    "name": "ipython",
    "version": 3
   },
   "file_extension": ".py",
   "mimetype": "text/x-python",
   "name": "python",
   "nbconvert_exporter": "python",
   "pygments_lexer": "ipython3",
   "version": "3.9.13"
  }
 },
 "nbformat": 4,
 "nbformat_minor": 2
}
