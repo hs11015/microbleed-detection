{
 "cells": [
  {
   "cell_type": "code",
   "execution_count": 66,
   "id": "92090a43",
   "metadata": {},
   "outputs": [],
   "source": [
    "import numpy as np\n",
    "import cv2\n",
    "import pydicom as dicom #전처리에서는 쓰지 않음\n",
    "import SimpleITK as sitk\n",
    "from math import sqrt\n",
    "import matplotlib.pyplot as plt\n",
    "from skimage.measure.entropy import shannon_entropy\n",
    "from skimage.filters.rank import entropy\n",
    "from skimage import data\n",
    "from skimage.filters import frangi\n",
    "from skimage.morphology import disk"
   ]
  },
  {
   "cell_type": "code",
   "execution_count": 67,
   "id": "e6cb095b",
   "metadata": {},
   "outputs": [],
   "source": [
    "filename = ['1.3.12.2.1107.5.2.19.45117.2018090613503615376365722.dcm',\n",
    "            '1.3.12.2.1107.5.2.19.45117.2018090613503616013765723.dcm',\n",
    "            '1.3.12.2.1107.5.2.19.45117.2018090613503616223465724.dcm',\n",
    "            '1.3.12.2.1107.5.2.19.45117.2018090613503617022165727.dcm', \n",
    "            '1.3.12.2.1107.5.2.19.45117.2018090613503617063865728.dcm', \n",
    "            '1.3.12.2.1107.5.2.19.45117.2018090613503617629365729.dcm',\n",
    "            '1.3.12.2.1107.5.2.19.45117.2018090613503617914065730.dcm', \n",
    "            '1.3.12.2.1107.5.2.19.45117.2018090613503618276565731.dcm', \n",
    "            '1.3.12.2.1107.5.2.19.45117.2018090613503618349565732.dcm',\n",
    "            '1.3.12.2.1107.5.2.19.45117.2018090613503618382665733.dcm',\n",
    "            '1.3.12.2.1107.5.2.19.45117.2018090613503619179165734.dcm', \n",
    "            '1.3.12.2.1107.5.2.19.45117.2018090613503620136865735.dcm', \n",
    "            '1.3.12.2.1107.5.2.19.45117.2018090613503678343565743.dcm',\n",
    "            '1.3.12.2.1107.5.2.19.45117.2018090613503679419265744.dcm',\n",
    "            '1.3.12.2.1107.5.2.19.45117.2018090613503679609065745.dcm',\n",
    "            '1.3.12.2.1107.5.2.19.45117.2018090613503682490865756.dcm',\n",
    "            '1.3.12.2.1107.5.2.19.45117.2018090613503682571265757.dcm',\n",
    "            '1.3.12.2.1107.5.2.19.45117.2018090613503682996765760.dcm',\n",
    "            '1.3.12.2.1107.5.2.19.45117.2018090613503684001665763.dcm',\n",
    "            '1.3.12.2.1107.5.2.19.45117.2018090613503684575165764.dcm',\n",
    "            '1.3.12.2.1107.5.2.19.45117.2018090613503685637465765.dcm',\n",
    "            '1.3.12.2.1107.5.2.19.45117.2018090613503686442465770.dcm',\n",
    "            '1.3.12.2.1107.5.2.19.45117.2018090613503688800365771.dcm',\n",
    "            '1.3.12.2.1107.5.2.19.45117.2018090613503688934865772.dcm',\n",
    "            '1.3.12.2.1107.5.2.19.45117.2018090613503741760465779.dcm',\n",
    "            '1.3.12.2.1107.5.2.19.45117.2018090613503742446065780.dcm',\n",
    "            '1.3.12.2.1107.5.2.19.45117.2018090613503742595965781.dcm',\n",
    "            '1.3.12.2.1107.5.2.19.45117.2018090613503746385365784.dcm']\n",
    "\n",
    "images, images_array, img, copy_img, frangi_img = [0 for i in range(28)], [0 for i in range(28)], [0 for i in range(28)], [0 for i in range(28)], [0 for i in range(28)]\n"
   ]
  },
  {
   "cell_type": "code",
   "execution_count": 68,
   "id": "c4a03e6e",
   "metadata": {},
   "outputs": [],
   "source": [
    "for i in range(28):\n",
    "    images[i] = sitk.ReadImage(filename[i])\n",
    "    images_array[i] = sitk.GetArrayFromImage(images[i]).astype('float32')\n",
    "    \n",
    "    img[i] = np.squeeze(images_array[i])\n",
    "    copy_img[i] = img[i]\n",
    "    min=np.min(img[i])\n",
    "    max=np.max(img[i])\n",
    "    \n",
    "    copy_img[i] = (copy_img[i] - min)/(max-min)\n",
    "    copy_img[i] *= 2**8 -1\n",
    "    copy_img[i] = copy_img[i].astype(np.uint8)\n",
    "    \n",
    "    copy_img[i] = np.expand_dims(copy_img[i], axis = -1)\n",
    "    copy_img[i] = cv2.cvtColor(copy_img[i], cv2.COLOR_GRAY2RGB)\n",
    "    "
   ]
  },
  {
   "cell_type": "code",
   "execution_count": 112,
   "id": "f7fce816",
   "metadata": {},
   "outputs": [],
   "source": [
    "for n_img in range(28):\n",
    "    circle_img = cv2.cvtColor(copy_img[n_img], cv2.COLOR_RGB2GRAY)\n",
    "    circles = cv2.HoughCircles(circle_img,cv2.HOUGH_GRADIENT,1,1,param1=200,param2=10,minRadius=0,maxRadius=10) \n",
    "    circles = np.uint16(np.around(circles))\n",
    "    #print(circles)\n",
    "    circle_img = cv2.cvtColor(circle_img, cv2.COLOR_GRAY2RGB)\n",
    "    \n",
    "    frangi_img = cv2.cvtColor(copy_img[n_img], cv2.COLOR_RGB2GRAY)\n",
    "    frangi_img = frangi(frangi_img)\n",
    "\n",
    "    #print(circles[0, :][0])\n",
    "    for i in circles[0,:]:\n",
    "        \n",
    "        # draw the outer circle\n",
    "        #print(len(circles[0]))\n",
    "        #print(shannon_entropy(entropy_img[i[0]][:]))\n",
    "        #print(shannon_entropy(entropy_img[:][i[1]]))\n",
    "        \n",
    "        if 4<=shannon_entropy(entropy_img[i[0]][:])<=6 and 4<=shannon_entropy(entropy_img[:][i[1]])<=6:\n",
    "            #if 0.1<=frangi_img[i[0]][i[1]] <=0.6:\n",
    "                cv2.circle(circle_img,(i[0],i[1]),i[2],(0,0,255),1)\n",
    "        # draw the center of the circle\n",
    "        #cv2.circle(circle_img,(i[0],i[1]),2,(0,0,255),3)\n",
    "\n",
    "    cv2.imshow('detected circles',circle_img)\n",
    "    cv2.waitKey(0)\n",
    "    cv2.destroyAllWindows()\n",
    "    "
   ]
  },
  {
   "cell_type": "code",
   "execution_count": 102,
   "id": "90faf32d",
   "metadata": {},
   "outputs": [
    {
     "name": "stdout",
     "output_type": "stream",
     "text": [
      "0.0 0.00021001916022827562\n",
      "0.0 0.00010376002242493482\n",
      "0.0 8.235806202674306e-05\n",
      "0.0 7.851919219354657e-05\n",
      "0.0 0.000139467686800091\n",
      "0.0 0.00018960548291477186\n",
      "0.0 0.00016194182047980313\n",
      "0.0 0.0001574140669524494\n",
      "0.0 0.00013294370667616778\n",
      "0.0 5.945331122810228e-05\n",
      "0.0 0.0001771536925507162\n",
      "0.0 0.00011358188712056286\n",
      "0.0 5.339442309109537e-05\n",
      "0.0 5.392090810671628e-05\n",
      "0.0 0.00010385089044451652\n",
      "0.0 0.00012310321840498098\n",
      "0.0 0.00014978970795351672\n",
      "0.0 0.0001189050040330217\n",
      "0.0 0.0001712009426370074\n",
      "0.0 0.00017770431599709133\n",
      "0.0 0.00015092046731127697\n",
      "0.0 0.00018800888479438037\n",
      "0.0 8.128230381406955e-05\n",
      "0.0 0.00020674134572041037\n",
      "0.0 0.0001750812787386366\n",
      "0.0 0.00011022208875857969\n",
      "0.0 5.880350224190477e-05\n",
      "0.0 6.298159007001959e-05\n"
     ]
    }
   ],
   "source": [
    "for i in range(28):\n",
    "    frangi_img = cv2.cvtColor(copy_img[i], cv2.COLOR_RGB2GRAY)\n",
    "    frangi_img = frangi(frangi_img)\n",
    "    \n",
    "    frangi_img = np.squeeze(frangi_img)\n",
    "    min=np.min(frangi_img)\n",
    "    max=np.max(frangi_img)\n",
    "    \n",
    "    print(min, max)\n",
    "    \n",
    "    frangi_img = (frangi_img - min)/(max-min)\n",
    "    frangi_img *= 2**8 -1\n",
    "    frangi_img = frangi_img.astype(np.uint8)\n",
    "    \n",
    "    frangi_img = np.expand_dims(frangi_img, axis = -1)\n",
    "\n",
    "    \n",
    "    frangi_img = cv2.cvtColor(frangi_img, cv2.COLOR_GRAY2RGB)\n",
    "    \n",
    "    frangi_img = cv2.bitwise_or(copy_img[i], frangi_img)\n",
    "    \n",
    "    cv2.imshow('detected circles',frangi_img)\n",
    "    cv2.waitKey(0)\n",
    "    cv2.destroyAllWindows()\n",
    "    \n",
    "    \n",
    "    #frangi_img = frangi(frangi_img)\n",
    "    #for x in range(384):\n",
    "    #    for y in range(384):\n",
    "    #        if frangi_img[x][y] > 0.6:\n",
    "    #            frangi_img[x][y] = 0\n",
    "    #cv2.imshow('final',frangi_img)\n",
    "    #cv2.waitKey(0)\n",
    "    #cv2.destroyAllWindows()\n",
    "    \n",
    "    #ax[2].imshow(hessian(frangi_img), cmap=plt.cm.gray)\n",
    "    #ax[2].set_title('Hybrid Hessian filter result')\n",
    "\n",
    "\n",
    "#plt.show()"
   ]
  },
  {
   "cell_type": "code",
   "execution_count": 140,
   "id": "893802dc",
   "metadata": {
    "collapsed": true
   },
   "outputs": [
    {
     "data": {
      "image/png": "[encoded data removed]",
      "text/plain": [
       "<Figure size 432x288 with 1 Axes>"
      ]
     },
     "metadata": {
      "needs_background": "light"
     },
     "output_type": "display_data"
    }
   ],
   "source": [
    "for i in range(28):\n",
    "    plt.hist(np.mean(copy_img[i], axis=1), alpha=0.8)\n",
    "plt.show()"
   ]
  },
  {
   "cell_type": "code",
   "execution_count": null,
   "id": "3934a161",
   "metadata": {},
   "outputs": [],
   "source": []
  },
  {
   "cell_type": "code",
   "execution_count": null,
   "id": "9c617751",
   "metadata": {},
   "outputs": [],
   "source": []
  },
  {
   "cell_type": "code",
   "execution_count": 4,
   "id": "14a5da6a",
   "metadata": {},
   "outputs": [],
   "source": [
    "for n_img in range(28):\n",
    "    circle_img = cv2.cvtColor(copy_img[n_img], cv2.COLOR_RGB2GRAY)\n",
    "    circles = cv2.HoughCircles(circle_img,cv2.HOUGH_GRADIENT,1,1,param1=180,param2=15,minRadius=0,maxRadius=10) \n",
    "    circles = np.uint16(np.around(circles))\n",
    "    #print(circles)\n",
    "    circle_img = cv2.cvtColor(circle_img, cv2.COLOR_GRAY2RGB)\n",
    "    #print(circles[0, :][0])\n",
    "    for i in circles[0,:]:\n",
    "        # draw the outer circle\n",
    "        #print(len(circles[0]))\n",
    "        mean = 0\n",
    "        #cnt = 0\n",
    "        for x in range(i[0]-i[2], i[0]+i[2]):\n",
    "            mean += circle_img[i[1]][x][0]\n",
    "            #cnt+=1\n",
    "        for y in range(i[1]-i[2], i[1]+i[2]):\n",
    "            mean += circle_img[y][i[0]][0]\n",
    "            #cnt+=1\n",
    "        mean /= i[2]*4\n",
    "        #print(cnt)\n",
    "        \n",
    "        if mean <= 100:\n",
    "            #print(circle_img[i[0]][i[1]][0])\n",
    "            cv2.circle(circle_img,(i[0],i[1]),i[2],(0,0,255),1)\n",
    "            # draw the center of the circle\n",
    "            #cv2.circle(circle_img,(i[0],i[1]),2,(0,0,255),3)\n",
    "\n",
    "    cv2.imshow('detected circles',circle_img)\n",
    "    cv2.waitKey(0)\n",
    "    cv2.destroyAllWindows()\n",
    "    "
   ]
  },
  {
   "cell_type": "code",
   "execution_count": 108,
   "id": "15aa6d4c",
   "metadata": {},
   "outputs": [
    {
     "name": "stdout",
     "output_type": "stream",
     "text": [
      "0 7\n",
      "0 7\n",
      "0 7\n",
      "0 7\n",
      "0 7\n",
      "0 7\n",
      "0 7\n",
      "0 7\n",
      "0 7\n",
      "0 7\n",
      "0 7\n",
      "0 7\n",
      "0 7\n",
      "0 7\n",
      "0 7\n",
      "0 7\n",
      "0 7\n",
      "0 7\n",
      "0 7\n",
      "0 7\n",
      "0 7\n",
      "0 7\n",
      "0 7\n",
      "0 7\n",
      "0 7\n",
      "0 7\n",
      "0 7\n",
      "0 7\n"
     ]
    }
   ],
   "source": [
    "for n_img in range(28):\n",
    "    entropy_img = cv2.cvtColor(copy_img[n_img], cv2.COLOR_RGB2GRAY)\n",
    "    entropy_img = np.uint16(entropy(entropy_img, disk(10)))\n",
    "    \n",
    "    min=np.min(entropy_img)\n",
    "    max=np.max(entropy_img)\n",
    "    print(min, max)\n",
    "    #entropy_img = (entropy_img * 255/np.max(entropy_img)).astype('float32')\n",
    "    cv2.imshow('entropy', entropy_img)\n",
    "    cv2.waitKey(0)\n",
    "    cv2.destroyAllWindows()"
   ]
  },
  {
   "cell_type": "code",
   "execution_count": null,
   "id": "9454ba48",
   "metadata": {},
   "outputs": [],
   "source": [
    "\n"
   ]
  }
 ],
 "metadata": {
  "kernelspec": {
   "display_name": "Python 3 (ipykernel)",
   "language": "python",
   "name": "python3"
  },
  "language_info": {
   "codemirror_mode": {
    "name": "ipython",
    "version": 3
   },
   "file_extension": ".py",
   "mimetype": "text/x-python",
   "name": "python",
   "nbconvert_exporter": "python",
   "pygments_lexer": "ipython3",
   "version": "3.9.13"
  }
 },
 "nbformat": 4,
 "nbformat_minor": 5
}
